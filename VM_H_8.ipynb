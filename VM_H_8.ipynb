{
  "nbformat": 4,
  "nbformat_minor": 0,
  "metadata": {
    "colab": {
      "provenance": []
    },
    "kernelspec": {
      "name": "python3",
      "display_name": "Python 3"
    },
    "language_info": {
      "name": "python"
    }
  },
  "cells": [
    {
      "cell_type": "markdown",
      "source": [
        " Gerekli Kütüphaneler"
      ],
      "metadata": {
        "id": "QixeaENaN1_5"
      }
    },
    {
      "cell_type": "code",
      "execution_count": null,
      "metadata": {
        "colab": {
          "base_uri": "https://localhost:8080/"
        },
        "id": "F74UE8DcNtPz",
        "outputId": "0efd46f1-81c4-4f42-97bf-fbe36dd11e0f"
      },
      "outputs": [
        {
          "output_type": "stream",
          "name": "stdout",
          "text": [
            "Requirement already satisfied: pandas in /usr/local/lib/python3.11/dist-packages (2.2.2)\n",
            "Requirement already satisfied: mlxtend in /usr/local/lib/python3.11/dist-packages (0.23.4)\n",
            "Requirement already satisfied: numpy>=1.23.2 in /usr/local/lib/python3.11/dist-packages (from pandas) (2.0.2)\n",
            "Requirement already satisfied: python-dateutil>=2.8.2 in /usr/local/lib/python3.11/dist-packages (from pandas) (2.9.0.post0)\n",
            "Requirement already satisfied: pytz>=2020.1 in /usr/local/lib/python3.11/dist-packages (from pandas) (2025.2)\n",
            "Requirement already satisfied: tzdata>=2022.7 in /usr/local/lib/python3.11/dist-packages (from pandas) (2025.2)\n",
            "Requirement already satisfied: scipy>=1.2.1 in /usr/local/lib/python3.11/dist-packages (from mlxtend) (1.15.2)\n",
            "Requirement already satisfied: scikit-learn>=1.3.1 in /usr/local/lib/python3.11/dist-packages (from mlxtend) (1.6.1)\n",
            "Requirement already satisfied: matplotlib>=3.0.0 in /usr/local/lib/python3.11/dist-packages (from mlxtend) (3.10.0)\n",
            "Requirement already satisfied: joblib>=0.13.2 in /usr/local/lib/python3.11/dist-packages (from mlxtend) (1.5.0)\n",
            "Requirement already satisfied: contourpy>=1.0.1 in /usr/local/lib/python3.11/dist-packages (from matplotlib>=3.0.0->mlxtend) (1.3.2)\n",
            "Requirement already satisfied: cycler>=0.10 in /usr/local/lib/python3.11/dist-packages (from matplotlib>=3.0.0->mlxtend) (0.12.1)\n",
            "Requirement already satisfied: fonttools>=4.22.0 in /usr/local/lib/python3.11/dist-packages (from matplotlib>=3.0.0->mlxtend) (4.57.0)\n",
            "Requirement already satisfied: kiwisolver>=1.3.1 in /usr/local/lib/python3.11/dist-packages (from matplotlib>=3.0.0->mlxtend) (1.4.8)\n",
            "Requirement already satisfied: packaging>=20.0 in /usr/local/lib/python3.11/dist-packages (from matplotlib>=3.0.0->mlxtend) (24.2)\n",
            "Requirement already satisfied: pillow>=8 in /usr/local/lib/python3.11/dist-packages (from matplotlib>=3.0.0->mlxtend) (11.2.1)\n",
            "Requirement already satisfied: pyparsing>=2.3.1 in /usr/local/lib/python3.11/dist-packages (from matplotlib>=3.0.0->mlxtend) (3.2.3)\n",
            "Requirement already satisfied: six>=1.5 in /usr/local/lib/python3.11/dist-packages (from python-dateutil>=2.8.2->pandas) (1.17.0)\n",
            "Requirement already satisfied: threadpoolctl>=3.1.0 in /usr/local/lib/python3.11/dist-packages (from scikit-learn>=1.3.1->mlxtend) (3.6.0)\n"
          ]
        }
      ],
      "source": [
        "pip install pandas mlxtend\n"
      ]
    },
    {
      "cell_type": "markdown",
      "source": [
        "Apriori Algoritması ile Birliktelik Kuralları"
      ],
      "metadata": {
        "id": "SJPZamnVN-A5"
      }
    },
    {
      "cell_type": "code",
      "source": [
        "import pandas as pd\n",
        "from mlxtend.frequent_patterns import apriori, association_rules\n",
        "\n",
        "# Örnek veriseti: Alışveriş sepeti verisi\n",
        "dataset = [\n",
        "    ['süt', 'ekmek', 'yağ'],\n",
        "    ['ekmek', 'yağ'],\n",
        "    ['süt', 'ekmek'],\n",
        "    ['süt', 'yağ'],\n",
        "    ['ekmek', 'yağ']\n",
        "]\n",
        "\n",
        "# Veriyi one-hot encode et\n",
        "from mlxtend.preprocessing import TransactionEncoder\n",
        "te = TransactionEncoder()\n",
        "te_ary = te.fit(dataset).transform(dataset)\n",
        "df = pd.DataFrame(te_ary, columns=te.columns_)\n",
        "\n",
        "# Sık öğe kümelerini bul\n",
        "frequent_itemsets = apriori(df, min_support=0.4, use_colnames=True)\n",
        "\n",
        "# Birliktelik kurallarını oluştur\n",
        "rules = association_rules(frequent_itemsets, metric=\"confidence\", min_threshold=0.7)\n",
        "\n",
        "print(\"Sık Öğeler:\")\n",
        "print(frequent_itemsets)\n",
        "print(\"\\nBirliktelik Kuralları:\")\n",
        "print(rules[['antecedents', 'consequents', 'support', 'confidence', 'lift']])\n"
      ],
      "metadata": {
        "colab": {
          "base_uri": "https://localhost:8080/"
        },
        "id": "Y72eN-7_Nz6A",
        "outputId": "cac19e6c-ceb7-44a3-ed41-62f521ff9fca"
      },
      "execution_count": null,
      "outputs": [
        {
          "output_type": "stream",
          "name": "stdout",
          "text": [
            "Sık Öğeler:\n",
            "   support      itemsets\n",
            "0      0.8       (ekmek)\n",
            "1      0.6         (süt)\n",
            "2      0.8         (yağ)\n",
            "3      0.4  (süt, ekmek)\n",
            "4      0.6  (ekmek, yağ)\n",
            "5      0.4    (süt, yağ)\n",
            "\n",
            "Birliktelik Kuralları:\n",
            "  antecedents consequents  support  confidence    lift\n",
            "0     (ekmek)       (yağ)      0.6        0.75  0.9375\n",
            "1       (yağ)     (ekmek)      0.6        0.75  0.9375\n"
          ]
        }
      ]
    },
    {
      "cell_type": "markdown",
      "source": [
        "Açıklamalar\n",
        "TransactionEncoder: Liste formatındaki veriyi 0/1 tablosuna dönüştürür.\n",
        "\n",
        "apriori: Belirli bir minimum destek eşiğine göre sık öğe kümelerini bulur.\n",
        "\n",
        "association_rules: Bu kümelerden güven ve lift gibi ölçütlerle kurallar üretir."
      ],
      "metadata": {
        "id": "GMsfhcDROEHe"
      }
    },
    {
      "cell_type": "markdown",
      "source": [
        "Kısaca yorumlamak gerekirse:\n",
        "\n",
        "Ekmek ⇒ Yağ ve Yağ ⇒ Ekmek kuralları, %75 güven ile doğru ama güçlü bir ilişki değil.\n",
        "\n",
        "Lift değeri 0.9375, yani bu ürünler birlikte alınsa da aralarındaki ilişki rastlantısal olabilir.\n",
        "\n",
        "Sonuç: Ekmek ve yağ sıklıkla birlikte alınsa da, biri diğerini alma ihtimalini çok artırmıyor."
      ],
      "metadata": {
        "id": "6BLDOCSzOjr2"
      }
    }
  ]
}